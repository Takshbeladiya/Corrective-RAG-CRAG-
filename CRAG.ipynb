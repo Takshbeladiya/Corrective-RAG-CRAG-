{
 "cells": [
  {
   "cell_type": "code",
   "execution_count": null,
   "metadata": {},
   "outputs": [],
   "source": [
    "from langchain.vectorstores import Chroma \n",
    "from langchain.text_splitter import CharacterTextSplitter\n",
    "from langchain_community.tools import DuckDuckGoSearchRun\n",
    "from langchain_groq import ChatGroq\n",
    "from langchain_huggingface import HuggingFaceEmbeddings\n",
    "from langchain_community.document_loaders import PyPDFLoader\n",
    "from langchain_core.output_parsers import StrOutputParser\n",
    "from pathlib import Path\n",
    "from langchain_community.vectorstores import Chroma\n",
    "from langchain_core.prompts import ChatPromptTemplate\n",
    "from langchain_core.pydantic_v1 import BaseModel, Field\n",
    "from typing import TypedDict, List\n",
    "from langchain import hub\n",
    "from langchain.schema import Document\n",
    "from langchain_core.output_parsers import StrOutputParser\n",
    "from langgraph.graph import START, END, StateGraph\n",
    "import os"
   ]
  },
  {
   "cell_type": "code",
   "execution_count": null,
   "metadata": {},
   "outputs": [],
   "source": [
    "# Inilization of variables\n",
    "\n",
    "embedding_model = \"BAAI/bge-small-en-v1.5\"\n",
    "\n",
    "llm = ChatGroq(model=\"Llama-3.3-70b-Versatile\", \n",
    "               api_key=\"xxx\")\n",
    "\n",
    "search = DuckDuckGoSearchRun()\n",
    "\n",
    "DATA_PATH = \"dataset/crimial_lab.pdf\"\n",
    "VECTOR_STORE_DIR = \"chroma_db\"\n",
    "chunk_size=750\n",
    "chunk_overlap=200"
   ]
  },
  {
   "cell_type": "code",
   "execution_count": null,
   "metadata": {},
   "outputs": [],
   "source": [
    "# It will read all the pdf from the directory and return the retrived documents\n",
    "def pdf_loader(data_path):\n",
    "    loader = PyPDFLoader(data_path)\n",
    "    pages = loader.load()\n",
    "    print('Data is Loaded')\n",
    "    return pages\n",
    "\n",
    "\n",
    "# Split the text into chunks and save the vector store \n",
    "def create_new_vector_store(vectore_store_path, chunk_size, chunk_overlap):\n",
    "\n",
    "    documents = pdf_loader(DATA_PATH)\n",
    "\n",
    "    text_splitter = CharacterTextSplitter(chunk_size=chunk_size, chunk_overlap=chunk_overlap)\n",
    "    docs = text_splitter.split_documents(documents)\n",
    "\n",
    "    embeddings = HuggingFaceEmbeddings(model_name=embedding_model)\n",
    "    \n",
    "    vector_store = Chroma(\n",
    "        collection_name=\"rag-chroma\",\n",
    "        embedding_function=embeddings,\n",
    "        persist_directory=vectore_store_path  \n",
    "    )\n",
    "\n",
    "    vector_store.add_documents(docs)\n",
    "    print('Chroma date is saved')\n",
    "    \n",
    "    return vector_store\n",
    "\n",
    "# read the vector store from directory and return it\n",
    "def load_existing_vector_store(VECTOR_STORE_DIR):\n",
    "    embeddings = HuggingFaceEmbeddings(model_name=embedding_model)\n",
    "\n",
    "    vector_store = Chroma(\n",
    "        collection_name=\"rag-chroma\",\n",
    "        embedding_function=embeddings,\n",
    "        persist_directory=VECTOR_STORE_DIR\n",
    "    )\n",
    "\n",
    "    print('Chroma date is loaded')\n",
    "    return vector_store"
   ]
  },
  {
   "cell_type": "code",
   "execution_count": null,
   "metadata": {},
   "outputs": [],
   "source": [
    "# Inilize AgentState\n",
    "\n",
    "class AgentState(TypedDict):\n",
    "    question: str\n",
    "    documents: List[str]\n",
    "    web_search: str\n",
    "    generation: str"
   ]
  },
  {
   "cell_type": "code",
   "execution_count": null,
   "metadata": {},
   "outputs": [],
   "source": [
    "# It will load the vector_store and return the similar documents\n",
    "def retrive_document(state):\n",
    "\n",
    "    print('-> Retrive Document ->')\n",
    "\n",
    "    query = state['question']\n",
    "    \n",
    "    if Path(VECTOR_STORE_DIR).exists():\n",
    "        # Try to load existing vector store\n",
    "        vector_store = load_existing_vector_store(VECTOR_STORE_DIR)\n",
    "    else:\n",
    "        # Create new vector store if directory doesn't exist\n",
    "        vector_store = create_new_vector_store(VECTOR_STORE_DIR, chunk_size, chunk_overlap)\n",
    "\n",
    "    results = vector_store.similarity_search(\n",
    "        query=query, \n",
    "        k=2\n",
    "    )\n",
    "\n",
    "    return {'documents': results}"
   ]
  },
  {
   "cell_type": "code",
   "execution_count": null,
   "metadata": {},
   "outputs": [],
   "source": [
    "# Inilization thee Pydentic class it is used to get output structure of llm\n",
    "class GradeDocuments(BaseModel):\n",
    "    \"\"\"Binary score for relevance check on retrieved documents.\"\"\"\n",
    "\n",
    "    binary_score: str = Field(\n",
    "        description=\"Documents are relevant to the question, 'yes' or 'no'\"\n",
    "    )\n",
    "\n",
    "llm_with_grade = llm.with_structured_output(GradeDocuments)\n",
    "\n",
    "# Grading document relevent or not\n",
    "def grade_document(state):\n",
    "\n",
    "    print('-> grade Document ->')\n",
    "\n",
    "    documents = state['documents']\n",
    "    question = state['question']    \n",
    "    \n",
    "    system = \"\"\"You are a grader assessing relevance of a retrieved document to a user question. \\n \n",
    "    If the document contains keyword(s) or semantic meaning related to the question, grade it as relevant. \\n\n",
    "    Give a binary score 'yes' or 'no' score to indicate whether the document is relevant to the question.\"\"\"\n",
    "\n",
    "    chat_prompt = ChatPromptTemplate.from_messages(\n",
    "        [\n",
    "            (\"system\", system),\n",
    "            (\"human\", \"Retrived document: \\n\\n {document} \\n\\n User question: \\n\\n{question}\")\n",
    "        ]\n",
    "    )\n",
    "\n",
    "    chain = chat_prompt | llm_with_grade\n",
    "\n",
    "    web_search = \"no\"\n",
    "\n",
    "    filtered_docs = []\n",
    "\n",
    "    for d in documents:\n",
    "        score = chain.invoke({\"document\": d.page_content, \"question\": question})\n",
    "\n",
    "        grade = score.binary_score\n",
    "\n",
    "        if grade == \"yes\":\n",
    "            filtered_docs.append(d)\n",
    "        else:\n",
    "            web_search = \"yes\"\n",
    "            continue\n",
    "    \n",
    "    return {\"documents\": filtered_docs, \"web_search\": web_search, \"question\": question} \n"
   ]
  },
  {
   "cell_type": "code",
   "execution_count": null,
   "metadata": {},
   "outputs": [],
   "source": [
    "# based on either the document is relevent or not it will route the flow\n",
    "def router(state):\n",
    "\n",
    "    print(\"-> Router ->\")\n",
    "\n",
    "    state[\"question\"]\n",
    "    state[\"documents\"]\n",
    "\n",
    "    web_search = state[\"web_search\"]\n",
    "\n",
    "    if web_search == \"yes\":\n",
    "        return \"transform\"\n",
    "    else:\n",
    "        return \"generate\""
   ]
  },
  {
   "cell_type": "code",
   "execution_count": null,
   "metadata": {},
   "outputs": [],
   "source": [
    "# it will take the question and rewrite it so DuckDuckGo can search the ans in web\n",
    "def transform_query(state):\n",
    "\n",
    "    print('-> Transform Query ->')\n",
    "\n",
    "    question = state[\"question\"]\n",
    "    \n",
    "    documents = state[\"documents\"]\n",
    "\n",
    "    system = \"\"\"You a question re-writer that converts an input question to a better version that is optimized \\n \n",
    "     for web search. Make sure to only write the optimized qestion only just write in one sentence\"\"\"\n",
    "     \n",
    "    re_write_prompt = ChatPromptTemplate.from_messages(\n",
    "        [\n",
    "            (\"system\", system),\n",
    "            (\n",
    "                \"human\",\n",
    "                \"Here is the initial question: \\n\\n {question} \\n Formulate an improved question.\",\n",
    "            ),\n",
    "        ]\n",
    "    )\n",
    "\n",
    "    question_rewriter = re_write_prompt | llm | StrOutputParser()\n",
    "\n",
    "    better_question = question_rewriter.invoke({\"question\": question})\n",
    "\n",
    "    return {\"documents\": documents, \"question\": better_question}"
   ]
  },
  {
   "cell_type": "code",
   "execution_count": null,
   "metadata": {},
   "outputs": [],
   "source": [
    "# Doing the web search and return the ans\n",
    "def web_search(state):\n",
    "\n",
    "    print(\"-> Web Search ->\")\n",
    "    \n",
    "    question = state[\"question\"]\n",
    "    \n",
    "    documents = state[\"documents\"]\n",
    "\n",
    "    docs = search.invoke(question)\n",
    "    \n",
    "    web_results = Document(page_content=docs)\n",
    "    \n",
    "    documents.append(web_results)\n",
    "\n",
    "    return {\"documents\": documents, \"question\": question}"
   ]
  },
  {
   "cell_type": "code",
   "execution_count": null,
   "metadata": {},
   "outputs": [],
   "source": [
    "# the document are given to the llm and it will return humanize output\n",
    "def generate_output(state):\n",
    "\n",
    "    print('-> Generate Output ->')\n",
    "\n",
    "    documents = state['documents']\n",
    "    question = state['question']  \n",
    "    \n",
    "    prompt = hub.pull(\"rlm/rag-prompt\")\n",
    "\n",
    "    chain = prompt | llm | StrOutputParser()\n",
    "\n",
    "    generated_output = chain.invoke({\"context\": documents, \"question\": question})\n",
    "\n",
    "    return {\"generation\": generated_output}"
   ]
  },
  {
   "cell_type": "code",
   "execution_count": null,
   "metadata": {},
   "outputs": [
    {
     "data": {
      "image/png": "[encoded data removed]",
      "text/plain": [
       "<langgraph.graph.state.CompiledStateGraph object at 0x00000291C037DD60>"
      ]
     },
     "execution_count": 42,
     "metadata": {},
     "output_type": "execute_result"
    }
   ],
   "source": [
    "# Inilization of the graph \n",
    "worflow = StateGraph(AgentState)\n",
    "\n",
    "worflow.add_node(\"retriver\", retrive_document)\n",
    "worflow.add_node(\"grader\", grade_document)\n",
    "worflow.add_node(\"transform\", transform_query)\n",
    "worflow.add_node(\"websearch\", web_search)\n",
    "worflow.add_node(\"generate\", generate_output)\n",
    "\n",
    "worflow.add_edge(START, \"retriver\")\n",
    "worflow.add_edge(\"retriver\", \"grader\")\n",
    "worflow.add_conditional_edges(\n",
    "    \"grader\",\n",
    "    router,\n",
    "    {\n",
    "        \"transform\": \"transform\",\n",
    "        \"generate\": \"generate\"\n",
    "    }\n",
    ")\n",
    "worflow.add_edge(\"transform\", \"websearch\")\n",
    "worflow.add_edge(\"websearch\", \"generate\")\n",
    "worflow.add_edge(\"generate\", END)\n",
    "\n",
    "app = worflow.compile()\n",
    "app"
   ]
  },
  {
   "cell_type": "code",
   "execution_count": null,
   "metadata": {},
   "outputs": [
    {
     "name": "stdout",
     "output_type": "stream",
     "text": [
      "-> Retrive Document ->\n",
      "Chroma date is loaded\n",
      "-> grade Document ->\n",
      "-> Router ->\n",
      "-> Generate Output ->\n"
     ]
    },
    {
     "name": "stderr",
     "output_type": "stream",
     "text": [
      "c:\\Users\\Admin\\AppData\\Local\\Programs\\Python\\Python312\\Lib\\site-packages\\langsmith\\client.py:253: LangSmithMissingAPIKeyWarning: API key must be provided when using hosted LangSmith API\n",
      "  warnings.warn(\n"
     ]
    },
    {
     "data": {
      "text/plain": [
       "{'question': 'in case of caught in killing how many years of jail',\n",
       " 'documents': [Document(metadata={'author': 'Administrator', 'creationdate': '2006-08-30T15:58:35+00:00', 'creator': 'PScript5.dll Version 5.2.2', 'keywords': '1501764525-THE-INDIAN-PENAL-CODE-1860', 'moddate': '2018-06-04T13:24:44+05:30', 'page': 47, 'page_label': '48', 'producer': 'GPL Ghostscript 8.15; modified using iText® 7.0.4 ©2000-2017 iText Group NV (AGPL-version)', 'source': 'dataset/crimial_lab.pdf', 'title': '1501764525-THE-INDIAN-PENAL-CODE-1860', 'total_pages': 227}, page_content=\"imprisonment of either description for a term which may extend to \\nfourteen years, and shall also be liable to fine. \\nIllustration \\nA instigates B to murder Z. The offence is not committed. If B \\nhad murdered Z, he would have been subject to the punishment of death \\nor 1*[imprisonment for life]. Therefore A is liable to imprisonment \\nfor a term which may extend to seven years and also to a fine; and, if \\nany hurt be done to Z in consequence of the abetment, he will be \\nliable to imprisonment for a term which may extend to fourteen years, \\nand to fine. \\n116. \\nAbetment of offence punishable with imprisonment--if offence be not \\ncommitted. \\n116. Abetment of offence punishable with imprisonment--if \\noffence be not committed.--Whoever abets an offence punishable with \\nimprisonment shall, if that offence be not committed in consequence of \\nthe abetment, and no express provision is made by this Code for the \\npunishment of such abetment, be punished with imprisonment of any \\ndescription provided for that offence for a term which may extend to \\none-fourth part of the longest term provided for that offence; or with \\nsuch fine as is provided for that offence, or with both; \\nif abettor or person abetted be a public servant whose duty it is to \\nprevent offence. \\nif abettor or person abetted be a public servant whose duty it is \\nto prevent offence.--and if the abettor or the person abetted is a \\npublic servant, whose duty it is to prevent the commission of such \\noffence, the abettor shall be punished with imprisonment of any \\ndescription provided for that offence, for a term which may extend to \\none-half of the longest term provided for that offence, or with such \\nfine as is provided for the offence, or with both. \\nIllustrations \\n(a) A offers a bribe to B, a public servant, as a reward for \\nshowing. A some favour in the exercise of B's official functions. B \\nrefuses to accept the bribe. A is punishable under this section. \\n(b) A instigates B to give false evidence. Here, if B does not \\ngive false evidence, A has nevertheless committed the offence defined \\nin this section, and is punishable accordingly. \\n(c) A, a police-officer, whose duty it is to prevent robbery, \\nabets the commission of robbery. Here, though the robbery be not \\ncommitted, A is liable to one-half of the longest term of imprisonment \\nprovided for that offence, and also to fine.\"),\n",
       "  Document(metadata={'author': 'Administrator', 'creationdate': '2006-08-30T15:58:35+00:00', 'creator': 'PScript5.dll Version 5.2.2', 'keywords': '1501764525-THE-INDIAN-PENAL-CODE-1860', 'moddate': '2018-06-04T13:24:44+05:30', 'page': 176, 'page_label': '177', 'producer': 'GPL Ghostscript 8.15; modified using iText® 7.0.4 ©2000-2017 iText Group NV (AGPL-version)', 'source': 'dataset/crimial_lab.pdf', 'title': '1501764525-THE-INDIAN-PENAL-CODE-1860', 'total_pages': 227}, page_content='be liable to fine. \\n396. \\nDacoity with murder. \\n396. Dacoity with murder.--If any one of five or more persons, \\nwho are conjointly committing dacoity, commits murder in so committing \\ndacoity, every one of those persons shall be punished with death, or \\n1*[imprisonment for life], or rigorous imprisonment for a term which \\nmay extend to ten years, and shall also be liable to fine. \\n397. \\nRobbery or dacoity, with attempt to cause death or grievous hurt. \\n397. Robbery or dacoity, with attempt to cause death or grievous \\nhurt.--If, at the time of committing robbery or dacoity, the offender \\nuses any deadly weapon, or causes grievous hurt to any person, so \\nattempts to cause death or grievous hurt to any person, the \\nimprisonment with which such offender shall be punished shall not be \\nless than seven years. \\n398. \\nAttempt to commit robbery or dacoity when armed with deadly weapon. \\n398. Attempt to commit robbery or dacoity when armed with deadly \\nweapon.--If, at the time of attempting to commit robbery or dacoity, \\nthe offender is armed with any deadly weapon, the imprisonment with \\nwhich such offender shall be punished shall not be less than seven \\nyears. \\n399. \\nMaking preparation to commit dacoity. \\n399. Making preparation to commit dacoity.--Whoever makes any \\npreparation for committing dacoity, shall be punished with rigorous \\nimprisonment for a term which may extend to ten years, and shall also \\nbe liable to fine. \\n400.')],\n",
       " 'web_search': 'no',\n",
       " 'generation': 'In the case of being caught for killing, the punishment can be death, imprisonment for life, or rigorous imprisonment for a term that may extend to ten years, and also a fine. The exact term of imprisonment can vary depending on the specific circumstances of the crime. According to the Indian Penal Code, the punishment for dacoity with murder can be death, imprisonment for life, or rigorous imprisonment for a term that may extend to ten years.'}"
      ]
     },
     "execution_count": 48,
     "metadata": {},
     "output_type": "execute_result"
    }
   ],
   "source": [
    "# Inference testing where it use default RAG\n",
    "\n",
    "app.invoke({\"question\": \"in case of caught in killing how many years of jail\"})"
   ]
  },
  {
   "cell_type": "code",
   "execution_count": null,
   "metadata": {},
   "outputs": [
    {
     "name": "stdout",
     "output_type": "stream",
     "text": [
      "-> Retrive Document ->\n",
      "Chroma date is loaded\n",
      "-> grade Document ->\n",
      "-> Router ->\n",
      "-> Transform Query ->\n",
      "-> Web Search ->\n",
      "-> Generate Output ->\n"
     ]
    },
    {
     "name": "stderr",
     "output_type": "stream",
     "text": [
      "c:\\Users\\Admin\\AppData\\Local\\Programs\\Python\\Python312\\Lib\\site-packages\\langsmith\\client.py:253: LangSmithMissingAPIKeyWarning: API key must be provided when using hosted LangSmith API\n",
      "  warnings.warn(\n"
     ]
    },
    {
     "data": {
      "text/plain": [
       "{'question': 'What is a vector store and how does it work in databases and artificial intelligence applications.',\n",
       " 'documents': [Document(metadata={}, page_content=\"Vector databases store, search, and retrieve embeddings, also called vector embeddings. An embedding is a numerical representation of data, such as text, images, or videos. To create these vectors, unstructured data must undergo an embedding process, where it is converted into lower-dimensional vector data using machine learning models. Vector databases are growing in popularity because they deliver the speed and performance needed to drive generative artificial intelligence (AI) use cases and applications. According to Gartner®, by 2026, more than 30% of enterprises will have adopted vector databases to build their foundation models with relevant business data. 1 Vector databases are a specialized type of database designed to efficiently store, manage, and query high-dimensional vector data. These databases have become increasingly important in fields such as artificial intelligence, machine learning, and natural language processing. How vector databases work. Vector databases are powerful. Here's a simple explanation of how they work: Creating vectors. First, the data (like an image or piece of text) is transformed into a vector using a method such as deep learning. This vector captures the essential features of the data in a numeric form. As a relatively new technology, many vector databases must advance in key database skills such as security, robustness, operational support, and workload diversification. As artificial intelligence (AI) applications advance, they will demand more than just vector search. Here are the most significant challenges of vector databases:\")],\n",
       " 'web_search': 'yes',\n",
       " 'generation': 'A vector store, also known as a vector database, is a specialized database designed to efficiently store, manage, and query high-dimensional vector data. It works by converting unstructured data into lower-dimensional vector data using machine learning models, allowing for fast and efficient search and retrieval of embeddings. Vector databases are increasingly important in fields such as artificial intelligence, machine learning, and natural language processing, enabling applications like generative AI and foundation models.'}"
      ]
     },
     "execution_count": 49,
     "metadata": {},
     "output_type": "execute_result"
    }
   ],
   "source": [
    "# Inference testing where it search for the answer\n",
    "\n",
    "app.invoke({\"question\": \"what is vector store\"})"
   ]
  }
 ],
 "metadata": {
  "kernelspec": {
   "display_name": "Python 3",
   "language": "python",
   "name": "python3"
  },
  "language_info": {
   "codemirror_mode": {
    "name": "ipython",
    "version": 3
   },
   "file_extension": ".py",
   "mimetype": "text/x-python",
   "name": "python",
   "nbconvert_exporter": "python",
   "pygments_lexer": "ipython3",
   "version": "3.12.8"
  }
 },
 "nbformat": 4,
 "nbformat_minor": 2
}
